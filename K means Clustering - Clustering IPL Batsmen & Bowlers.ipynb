{
 "cells": [
  {
   "cell_type": "markdown",
   "metadata": {},
   "source": [
    "# PROJECT LAYOUT"
   ]
  },
  {
   "cell_type": "markdown",
   "metadata": {},
   "source": [
    "#### The aim of this project is to analyse IPL matches data and distribute batsmen and bowlers into clusters according to their batting and bowling performances.\n",
    "\n",
    "#### The dataset contains ball-by-ball match data in one csv file and a second csv file that contains the names of the cricketers."
   ]
  },
  {
   "cell_type": "markdown",
   "metadata": {},
   "source": [
    "# A. READING IN THE DATA"
   ]
  },
  {
   "cell_type": "code",
   "execution_count": 409,
   "metadata": {},
   "outputs": [
    {
     "data": {
      "text/html": [
       "<div>\n",
       "<style scoped>\n",
       "    .dataframe tbody tr th:only-of-type {\n",
       "        vertical-align: middle;\n",
       "    }\n",
       "\n",
       "    .dataframe tbody tr th {\n",
       "        vertical-align: top;\n",
       "    }\n",
       "\n",
       "    .dataframe thead th {\n",
       "        text-align: right;\n",
       "    }\n",
       "</style>\n",
       "<table border=\"1\" class=\"dataframe\">\n",
       "  <thead>\n",
       "    <tr style=\"text-align: right;\">\n",
       "      <th></th>\n",
       "      <th>Match_Id</th>\n",
       "      <th>Innings_Id</th>\n",
       "      <th>Over_Id</th>\n",
       "      <th>Ball_Id</th>\n",
       "      <th>Team_Batting_Id</th>\n",
       "      <th>Team_Bowling_Id</th>\n",
       "      <th>Striker_Id</th>\n",
       "      <th>Striker_Batting_Position</th>\n",
       "      <th>Non_Striker_Id</th>\n",
       "      <th>Bowler_Id</th>\n",
       "      <th>Batsman_Scored</th>\n",
       "      <th>Extra_Type</th>\n",
       "      <th>Extra_Runs</th>\n",
       "      <th>Player_dissimal_Id</th>\n",
       "      <th>Dissimal_Type</th>\n",
       "      <th>Fielder_Id</th>\n",
       "    </tr>\n",
       "  </thead>\n",
       "  <tbody>\n",
       "    <tr>\n",
       "      <th>0</th>\n",
       "      <td>335987</td>\n",
       "      <td>1</td>\n",
       "      <td>1</td>\n",
       "      <td>1</td>\n",
       "      <td>1</td>\n",
       "      <td>2</td>\n",
       "      <td>1</td>\n",
       "      <td>1</td>\n",
       "      <td>2</td>\n",
       "      <td>14</td>\n",
       "      <td>0</td>\n",
       "      <td>legbyes</td>\n",
       "      <td>1</td>\n",
       "      <td></td>\n",
       "      <td></td>\n",
       "      <td></td>\n",
       "    </tr>\n",
       "    <tr>\n",
       "      <th>1</th>\n",
       "      <td>335987</td>\n",
       "      <td>1</td>\n",
       "      <td>1</td>\n",
       "      <td>2</td>\n",
       "      <td>1</td>\n",
       "      <td>2</td>\n",
       "      <td>2</td>\n",
       "      <td>2</td>\n",
       "      <td>1</td>\n",
       "      <td>14</td>\n",
       "      <td>0</td>\n",
       "      <td></td>\n",
       "      <td></td>\n",
       "      <td></td>\n",
       "      <td></td>\n",
       "      <td></td>\n",
       "    </tr>\n",
       "    <tr>\n",
       "      <th>2</th>\n",
       "      <td>335987</td>\n",
       "      <td>1</td>\n",
       "      <td>1</td>\n",
       "      <td>3</td>\n",
       "      <td>1</td>\n",
       "      <td>2</td>\n",
       "      <td>2</td>\n",
       "      <td>2</td>\n",
       "      <td>1</td>\n",
       "      <td>14</td>\n",
       "      <td>0</td>\n",
       "      <td>wides</td>\n",
       "      <td>1</td>\n",
       "      <td></td>\n",
       "      <td></td>\n",
       "      <td></td>\n",
       "    </tr>\n",
       "    <tr>\n",
       "      <th>3</th>\n",
       "      <td>335987</td>\n",
       "      <td>1</td>\n",
       "      <td>1</td>\n",
       "      <td>4</td>\n",
       "      <td>1</td>\n",
       "      <td>2</td>\n",
       "      <td>2</td>\n",
       "      <td>2</td>\n",
       "      <td>1</td>\n",
       "      <td>14</td>\n",
       "      <td>0</td>\n",
       "      <td></td>\n",
       "      <td></td>\n",
       "      <td></td>\n",
       "      <td></td>\n",
       "      <td></td>\n",
       "    </tr>\n",
       "    <tr>\n",
       "      <th>4</th>\n",
       "      <td>335987</td>\n",
       "      <td>1</td>\n",
       "      <td>1</td>\n",
       "      <td>5</td>\n",
       "      <td>1</td>\n",
       "      <td>2</td>\n",
       "      <td>2</td>\n",
       "      <td>2</td>\n",
       "      <td>1</td>\n",
       "      <td>14</td>\n",
       "      <td>0</td>\n",
       "      <td></td>\n",
       "      <td></td>\n",
       "      <td></td>\n",
       "      <td></td>\n",
       "      <td></td>\n",
       "    </tr>\n",
       "  </tbody>\n",
       "</table>\n",
       "</div>"
      ],
      "text/plain": [
       "   Match_Id  Innings_Id  Over_Id  Ball_Id  Team_Batting_Id  Team_Bowling_Id  \\\n",
       "0    335987           1        1        1                1                2   \n",
       "1    335987           1        1        2                1                2   \n",
       "2    335987           1        1        3                1                2   \n",
       "3    335987           1        1        4                1                2   \n",
       "4    335987           1        1        5                1                2   \n",
       "\n",
       "   Striker_Id  Striker_Batting_Position  Non_Striker_Id  Bowler_Id  \\\n",
       "0           1                         1               2         14   \n",
       "1           2                         2               1         14   \n",
       "2           2                         2               1         14   \n",
       "3           2                         2               1         14   \n",
       "4           2                         2               1         14   \n",
       "\n",
       "  Batsman_Scored Extra_Type Extra_Runs Player_dissimal_Id Dissimal_Type  \\\n",
       "0              0    legbyes          1                                    \n",
       "1              0                                                          \n",
       "2              0      wides          1                                    \n",
       "3              0                                                          \n",
       "4              0                                                          \n",
       "\n",
       "  Fielder_Id  \n",
       "0             \n",
       "1             \n",
       "2             \n",
       "3             \n",
       "4             "
      ]
     },
     "execution_count": 409,
     "metadata": {},
     "output_type": "execute_result"
    }
   ],
   "source": [
    "# Importing the libraries\n",
    "\n",
    "import pandas as pd\n",
    "import numpy as np\n",
    "\n",
    "# Reading in the Data\n",
    "\n",
    "runs = pd.read_csv(\"Ball_by_Ball.csv\")\n",
    "runs.head()"
   ]
  },
  {
   "cell_type": "code",
   "execution_count": 486,
   "metadata": {},
   "outputs": [
    {
     "data": {
      "text/html": [
       "<div>\n",
       "<style scoped>\n",
       "    .dataframe tbody tr th:only-of-type {\n",
       "        vertical-align: middle;\n",
       "    }\n",
       "\n",
       "    .dataframe tbody tr th {\n",
       "        vertical-align: top;\n",
       "    }\n",
       "\n",
       "    .dataframe thead th {\n",
       "        text-align: right;\n",
       "    }\n",
       "</style>\n",
       "<table border=\"1\" class=\"dataframe\">\n",
       "  <thead>\n",
       "    <tr style=\"text-align: right;\">\n",
       "      <th></th>\n",
       "      <th>Player_Id</th>\n",
       "      <th>Player_Name</th>\n",
       "    </tr>\n",
       "  </thead>\n",
       "  <tbody>\n",
       "    <tr>\n",
       "      <th>0</th>\n",
       "      <td>1</td>\n",
       "      <td>SC Ganguly</td>\n",
       "    </tr>\n",
       "    <tr>\n",
       "      <th>1</th>\n",
       "      <td>2</td>\n",
       "      <td>BB McCullum</td>\n",
       "    </tr>\n",
       "    <tr>\n",
       "      <th>2</th>\n",
       "      <td>3</td>\n",
       "      <td>RT Ponting</td>\n",
       "    </tr>\n",
       "    <tr>\n",
       "      <th>3</th>\n",
       "      <td>4</td>\n",
       "      <td>DJ Hussey</td>\n",
       "    </tr>\n",
       "    <tr>\n",
       "      <th>4</th>\n",
       "      <td>5</td>\n",
       "      <td>Mohammad Hafeez</td>\n",
       "    </tr>\n",
       "  </tbody>\n",
       "</table>\n",
       "</div>"
      ],
      "text/plain": [
       "   Player_Id      Player_Name\n",
       "0          1       SC Ganguly\n",
       "1          2      BB McCullum\n",
       "2          3       RT Ponting\n",
       "3          4        DJ Hussey\n",
       "4          5  Mohammad Hafeez"
      ]
     },
     "execution_count": 486,
     "metadata": {},
     "output_type": "execute_result"
    }
   ],
   "source": [
    "Players = pd.read_csv(\"Player.csv\")\n",
    "Players = Players[[\"Player_Id\", \"Player_Name\"]]\n",
    "Players.head()"
   ]
  },
  {
   "cell_type": "code",
   "execution_count": 410,
   "metadata": {},
   "outputs": [
    {
     "data": {
      "text/html": [
       "<div>\n",
       "<style scoped>\n",
       "    .dataframe tbody tr th:only-of-type {\n",
       "        vertical-align: middle;\n",
       "    }\n",
       "\n",
       "    .dataframe tbody tr th {\n",
       "        vertical-align: top;\n",
       "    }\n",
       "\n",
       "    .dataframe thead th {\n",
       "        text-align: right;\n",
       "    }\n",
       "</style>\n",
       "<table border=\"1\" class=\"dataframe\">\n",
       "  <thead>\n",
       "    <tr style=\"text-align: right;\">\n",
       "      <th></th>\n",
       "      <th>Match_Id</th>\n",
       "      <th>Over_Id</th>\n",
       "      <th>Striker_Id</th>\n",
       "      <th>Bowler_Id</th>\n",
       "      <th>Batsman_Scored</th>\n",
       "      <th>Extra_Runs</th>\n",
       "    </tr>\n",
       "  </thead>\n",
       "  <tbody>\n",
       "    <tr>\n",
       "      <th>0</th>\n",
       "      <td>335987</td>\n",
       "      <td>1</td>\n",
       "      <td>1</td>\n",
       "      <td>14</td>\n",
       "      <td>0</td>\n",
       "      <td>1</td>\n",
       "    </tr>\n",
       "    <tr>\n",
       "      <th>1</th>\n",
       "      <td>335987</td>\n",
       "      <td>1</td>\n",
       "      <td>2</td>\n",
       "      <td>14</td>\n",
       "      <td>0</td>\n",
       "      <td></td>\n",
       "    </tr>\n",
       "    <tr>\n",
       "      <th>2</th>\n",
       "      <td>335987</td>\n",
       "      <td>1</td>\n",
       "      <td>2</td>\n",
       "      <td>14</td>\n",
       "      <td>0</td>\n",
       "      <td>1</td>\n",
       "    </tr>\n",
       "    <tr>\n",
       "      <th>3</th>\n",
       "      <td>335987</td>\n",
       "      <td>1</td>\n",
       "      <td>2</td>\n",
       "      <td>14</td>\n",
       "      <td>0</td>\n",
       "      <td></td>\n",
       "    </tr>\n",
       "    <tr>\n",
       "      <th>4</th>\n",
       "      <td>335987</td>\n",
       "      <td>1</td>\n",
       "      <td>2</td>\n",
       "      <td>14</td>\n",
       "      <td>0</td>\n",
       "      <td></td>\n",
       "    </tr>\n",
       "  </tbody>\n",
       "</table>\n",
       "</div>"
      ],
      "text/plain": [
       "   Match_Id  Over_Id  Striker_Id  Bowler_Id Batsman_Scored Extra_Runs\n",
       "0    335987        1           1         14              0          1\n",
       "1    335987        1           2         14              0           \n",
       "2    335987        1           2         14              0          1\n",
       "3    335987        1           2         14              0           \n",
       "4    335987        1           2         14              0           "
      ]
     },
     "execution_count": 410,
     "metadata": {},
     "output_type": "execute_result"
    }
   ],
   "source": [
    "# Keeping only relevant data for analysis.\n",
    "\n",
    "runs = runs[[\"Match_Id\", \"Over_Id\", \"Striker_Id\", \"Bowler_Id\", \"Batsman_Scored\", \"Extra_Runs\"]]\n",
    "runs.head()"
   ]
  },
  {
   "cell_type": "markdown",
   "metadata": {},
   "source": [
    "#### From above, we can clearly see that Extra_Runs column contains null values. Checking for null values and data types."
   ]
  },
  {
   "cell_type": "code",
   "execution_count": 411,
   "metadata": {},
   "outputs": [
    {
     "data": {
      "text/plain": [
       "Match_Id          0\n",
       "Over_Id           0\n",
       "Striker_Id        0\n",
       "Bowler_Id         0\n",
       "Batsman_Scored    0\n",
       "Extra_Runs        0\n",
       "dtype: int64"
      ]
     },
     "execution_count": 411,
     "metadata": {},
     "output_type": "execute_result"
    }
   ],
   "source": [
    "runs.isnull().sum()"
   ]
  },
  {
   "cell_type": "code",
   "execution_count": 412,
   "metadata": {},
   "outputs": [
    {
     "data": {
      "text/plain": [
       "Match_Id           int64\n",
       "Over_Id            int64\n",
       "Striker_Id         int64\n",
       "Bowler_Id          int64\n",
       "Batsman_Scored    object\n",
       "Extra_Runs        object\n",
       "dtype: object"
      ]
     },
     "execution_count": 412,
     "metadata": {},
     "output_type": "execute_result"
    }
   ],
   "source": [
    "# Since isnull gives no null values, checking for data types.\n",
    "\n",
    "runs.dtypes"
   ]
  },
  {
   "cell_type": "code",
   "execution_count": 413,
   "metadata": {},
   "outputs": [
    {
     "data": {
      "text/html": [
       "<div>\n",
       "<style scoped>\n",
       "    .dataframe tbody tr th:only-of-type {\n",
       "        vertical-align: middle;\n",
       "    }\n",
       "\n",
       "    .dataframe tbody tr th {\n",
       "        vertical-align: top;\n",
       "    }\n",
       "\n",
       "    .dataframe thead th {\n",
       "        text-align: right;\n",
       "    }\n",
       "</style>\n",
       "<table border=\"1\" class=\"dataframe\">\n",
       "  <thead>\n",
       "    <tr style=\"text-align: right;\">\n",
       "      <th></th>\n",
       "      <th>Match_Id</th>\n",
       "      <th>Over_Id</th>\n",
       "      <th>Striker_Id</th>\n",
       "      <th>Bowler_Id</th>\n",
       "      <th>Batsman_Scored</th>\n",
       "      <th>Extra_Runs</th>\n",
       "    </tr>\n",
       "  </thead>\n",
       "  <tbody>\n",
       "    <tr>\n",
       "      <th>0</th>\n",
       "      <td>335987</td>\n",
       "      <td>1</td>\n",
       "      <td>1</td>\n",
       "      <td>14</td>\n",
       "      <td>0.0</td>\n",
       "      <td>1.0</td>\n",
       "    </tr>\n",
       "    <tr>\n",
       "      <th>1</th>\n",
       "      <td>335987</td>\n",
       "      <td>1</td>\n",
       "      <td>2</td>\n",
       "      <td>14</td>\n",
       "      <td>0.0</td>\n",
       "      <td>0.0</td>\n",
       "    </tr>\n",
       "    <tr>\n",
       "      <th>2</th>\n",
       "      <td>335987</td>\n",
       "      <td>1</td>\n",
       "      <td>2</td>\n",
       "      <td>14</td>\n",
       "      <td>0.0</td>\n",
       "      <td>1.0</td>\n",
       "    </tr>\n",
       "    <tr>\n",
       "      <th>3</th>\n",
       "      <td>335987</td>\n",
       "      <td>1</td>\n",
       "      <td>2</td>\n",
       "      <td>14</td>\n",
       "      <td>0.0</td>\n",
       "      <td>0.0</td>\n",
       "    </tr>\n",
       "    <tr>\n",
       "      <th>4</th>\n",
       "      <td>335987</td>\n",
       "      <td>1</td>\n",
       "      <td>2</td>\n",
       "      <td>14</td>\n",
       "      <td>0.0</td>\n",
       "      <td>0.0</td>\n",
       "    </tr>\n",
       "    <tr>\n",
       "      <th>5</th>\n",
       "      <td>335987</td>\n",
       "      <td>1</td>\n",
       "      <td>2</td>\n",
       "      <td>14</td>\n",
       "      <td>0.0</td>\n",
       "      <td>0.0</td>\n",
       "    </tr>\n",
       "    <tr>\n",
       "      <th>6</th>\n",
       "      <td>335987</td>\n",
       "      <td>1</td>\n",
       "      <td>2</td>\n",
       "      <td>14</td>\n",
       "      <td>0.0</td>\n",
       "      <td>1.0</td>\n",
       "    </tr>\n",
       "    <tr>\n",
       "      <th>7</th>\n",
       "      <td>335987</td>\n",
       "      <td>2</td>\n",
       "      <td>2</td>\n",
       "      <td>15</td>\n",
       "      <td>0.0</td>\n",
       "      <td>0.0</td>\n",
       "    </tr>\n",
       "    <tr>\n",
       "      <th>8</th>\n",
       "      <td>335987</td>\n",
       "      <td>2</td>\n",
       "      <td>2</td>\n",
       "      <td>15</td>\n",
       "      <td>4.0</td>\n",
       "      <td>0.0</td>\n",
       "    </tr>\n",
       "    <tr>\n",
       "      <th>9</th>\n",
       "      <td>335987</td>\n",
       "      <td>2</td>\n",
       "      <td>2</td>\n",
       "      <td>15</td>\n",
       "      <td>4.0</td>\n",
       "      <td>0.0</td>\n",
       "    </tr>\n",
       "    <tr>\n",
       "      <th>10</th>\n",
       "      <td>335987</td>\n",
       "      <td>2</td>\n",
       "      <td>2</td>\n",
       "      <td>15</td>\n",
       "      <td>6.0</td>\n",
       "      <td>0.0</td>\n",
       "    </tr>\n",
       "    <tr>\n",
       "      <th>11</th>\n",
       "      <td>335987</td>\n",
       "      <td>2</td>\n",
       "      <td>2</td>\n",
       "      <td>15</td>\n",
       "      <td>4.0</td>\n",
       "      <td>0.0</td>\n",
       "    </tr>\n",
       "    <tr>\n",
       "      <th>12</th>\n",
       "      <td>335987</td>\n",
       "      <td>2</td>\n",
       "      <td>2</td>\n",
       "      <td>15</td>\n",
       "      <td>0.0</td>\n",
       "      <td>0.0</td>\n",
       "    </tr>\n",
       "    <tr>\n",
       "      <th>13</th>\n",
       "      <td>335987</td>\n",
       "      <td>3</td>\n",
       "      <td>1</td>\n",
       "      <td>14</td>\n",
       "      <td>0.0</td>\n",
       "      <td>0.0</td>\n",
       "    </tr>\n",
       "  </tbody>\n",
       "</table>\n",
       "</div>"
      ],
      "text/plain": [
       "    Match_Id  Over_Id  Striker_Id  Bowler_Id  Batsman_Scored  Extra_Runs\n",
       "0     335987        1           1         14             0.0         1.0\n",
       "1     335987        1           2         14             0.0         0.0\n",
       "2     335987        1           2         14             0.0         1.0\n",
       "3     335987        1           2         14             0.0         0.0\n",
       "4     335987        1           2         14             0.0         0.0\n",
       "5     335987        1           2         14             0.0         0.0\n",
       "6     335987        1           2         14             0.0         1.0\n",
       "7     335987        2           2         15             0.0         0.0\n",
       "8     335987        2           2         15             4.0         0.0\n",
       "9     335987        2           2         15             4.0         0.0\n",
       "10    335987        2           2         15             6.0         0.0\n",
       "11    335987        2           2         15             4.0         0.0\n",
       "12    335987        2           2         15             0.0         0.0\n",
       "13    335987        3           1         14             0.0         0.0"
      ]
     },
     "execution_count": 413,
     "metadata": {},
     "output_type": "execute_result"
    }
   ],
   "source": [
    "# Converting object columns into numeric.\n",
    "# Replacing null values with 0 runs.\n",
    "\n",
    "runs[\"Extra_Runs\"] = pd.to_numeric(runs[\"Extra_Runs\"], errors=\"coerce\")\n",
    "runs[\"Extra_Runs\"] = runs[\"Extra_Runs\"].fillna(0)\n",
    "\n",
    "runs[\"Batsman_Scored\"] = pd.to_numeric(runs[\"Batsman_Scored\"], errors=\"coerce\")\n",
    "runs[\"Batsman_Scored\"] = runs[\"Batsman_Scored\"].fillna(0)\n",
    "runs.head(14)"
   ]
  },
  {
   "cell_type": "markdown",
   "metadata": {},
   "source": [
    "# B. Creating a DF for Batsmen"
   ]
  },
  {
   "cell_type": "code",
   "execution_count": 414,
   "metadata": {},
   "outputs": [
    {
     "data": {
      "text/html": [
       "<div>\n",
       "<style scoped>\n",
       "    .dataframe tbody tr th:only-of-type {\n",
       "        vertical-align: middle;\n",
       "    }\n",
       "\n",
       "    .dataframe tbody tr th {\n",
       "        vertical-align: top;\n",
       "    }\n",
       "\n",
       "    .dataframe thead th {\n",
       "        text-align: right;\n",
       "    }\n",
       "</style>\n",
       "<table border=\"1\" class=\"dataframe\">\n",
       "  <thead>\n",
       "    <tr style=\"text-align: right;\">\n",
       "      <th></th>\n",
       "      <th>Player_names</th>\n",
       "      <th>Runs</th>\n",
       "      <th>Balls_played</th>\n",
       "      <th>Strike_Rate</th>\n",
       "    </tr>\n",
       "  </thead>\n",
       "  <tbody>\n",
       "    <tr>\n",
       "      <th>0</th>\n",
       "      <td>1</td>\n",
       "      <td>1349.0</td>\n",
       "      <td>1326</td>\n",
       "      <td>101.73</td>\n",
       "    </tr>\n",
       "    <tr>\n",
       "      <th>1</th>\n",
       "      <td>2</td>\n",
       "      <td>2435.0</td>\n",
       "      <td>1954</td>\n",
       "      <td>124.62</td>\n",
       "    </tr>\n",
       "    <tr>\n",
       "      <th>3</th>\n",
       "      <td>4</td>\n",
       "      <td>1322.0</td>\n",
       "      <td>1101</td>\n",
       "      <td>120.07</td>\n",
       "    </tr>\n",
       "    <tr>\n",
       "      <th>5</th>\n",
       "      <td>6</td>\n",
       "      <td>2170.0</td>\n",
       "      <td>1918</td>\n",
       "      <td>113.14</td>\n",
       "    </tr>\n",
       "    <tr>\n",
       "      <th>6</th>\n",
       "      <td>7</td>\n",
       "      <td>130.0</td>\n",
       "      <td>129</td>\n",
       "      <td>100.78</td>\n",
       "    </tr>\n",
       "  </tbody>\n",
       "</table>\n",
       "</div>"
      ],
      "text/plain": [
       "   Player_names    Runs  Balls_played  Strike_Rate\n",
       "0             1  1349.0          1326       101.73\n",
       "1             2  2435.0          1954       124.62\n",
       "3             4  1322.0          1101       120.07\n",
       "5             6  2170.0          1918       113.14\n",
       "6             7   130.0           129       100.78"
      ]
     },
     "execution_count": 414,
     "metadata": {},
     "output_type": "execute_result"
    }
   ],
   "source": [
    "# To analyse the strike rate of a bastman, we need runs scored by him and the number of balls he faced.\n",
    "# The strike rate for the batsman can be calculated from these two values.\n",
    "\n",
    "A = []\n",
    "B = []\n",
    "\n",
    "for i in runs[\"Striker_Id\"].unique():\n",
    "    a = runs[\"Batsman_Scored\"][runs[\"Striker_Id\"] == i].sum()\n",
    "    b = runs[\"Match_Id\"][runs[\"Striker_Id\"] == i].count()\n",
    "    A.append(a)\n",
    "    B.append(b)\n",
    "\n",
    "Batsmen = pd.DataFrame({\"Player_names\": runs[\"Striker_Id\"].unique()})\n",
    "\n",
    "Batsmen[\"Runs\"] = A\n",
    "Batsmen[\"Balls_played\"] = B\n",
    "\n",
    "# Calculating strike rate using the formula (strike_rate = runs per 100 balls faced)\n",
    "\n",
    "Batsmen[\"Strike_Rate\"] = (Batsmen[\"Runs\"] * 100 / Batsmen[\"Balls_played\"]).round(2)\n",
    "\n",
    "# Since we have to assess batsmen, the players with very low strike rates are not required to be considered\n",
    "# as they tend to bat very few times and are usually bowlers/fielders.\n",
    "\n",
    "Batsmen = Batsmen[Batsmen[\"Strike_Rate\"] > 60]\n",
    "Batsmen = Batsmen[Batsmen[\"Strike_Rate\"] < 150]\n",
    "\n",
    "# Applying another filtering - run rate, which is equal to runs per over(or per 6 balls).\n",
    "\n",
    "Batsmen = Batsmen[(Batsmen[\"Runs\"]*6/Batsmen[\"Balls_played\"]) > 6]\n",
    "\n",
    "Batsmen.head()"
   ]
  },
  {
   "cell_type": "code",
   "execution_count": 416,
   "metadata": {},
   "outputs": [
    {
     "data": {
      "text/plain": [
       "<matplotlib.axes._subplots.AxesSubplot at 0x22d8d83c1d0>"
      ]
     },
     "execution_count": 416,
     "metadata": {},
     "output_type": "execute_result"
    },
    {
     "data": {
      "image/png": "[encoded data removed]",
      "text/plain": [
       "<matplotlib.figure.Figure at 0x22d87006978>"
      ]
     },
     "metadata": {},
     "output_type": "display_data"
    }
   ],
   "source": [
    "# Checking the distribution of batsmen by plotting a histogram.\n",
    "\n",
    "Batsmen[\"Strike_Rate\"].hist(color=\"limegreen\")"
   ]
  },
  {
   "cell_type": "markdown",
   "metadata": {},
   "source": [
    "# C. APPLYING K MEANS ALGORITHM ON BATSMEN DATA"
   ]
  },
  {
   "cell_type": "code",
   "execution_count": 283,
   "metadata": {},
   "outputs": [
    {
     "data": {
      "image/png": "[encoded data removed]",
      "text/plain": [
       "<matplotlib.figure.Figure at 0x22d8d5fdc18>"
      ]
     },
     "metadata": {},
     "output_type": "display_data"
    }
   ],
   "source": [
    "import matplotlib.pyplot as plt\n",
    "import seaborn as sns\n",
    "%matplotlib inline\n",
    "\n",
    "sns.set_style(\"whitegrid\")\n",
    "\n",
    "fig = plt.figure(figsize=(12,6))\n",
    "plt.scatter(Batsmen[\"Strike_Rate\"], Batsmen[\"Runs\"], color=\"red\")\n",
    "plt.xlabel(\"Strike Rate of the Batsmen\", fontsize=14)\n",
    "plt.ylabel(\"Runs scored by the Batsmen\", fontsize=14)\n",
    "plt.title(\"IPL Batsmen\", fontsize=16)\n",
    "plt.show()"
   ]
  },
  {
   "cell_type": "markdown",
   "metadata": {},
   "source": [
    "#### The distribution of the Batsmen appears to be in largely five clusters:\n",
    "#### under 500 runs - highest density of dots\n",
    "#### 500 - 1000 runs\n",
    "#### 1000 - 2000 runs\n",
    "#### 2000 - 3000 runs\n",
    "#### above 3000 runs"
   ]
  },
  {
   "cell_type": "markdown",
   "metadata": {},
   "source": [
    "### Applying the clustering algorithm"
   ]
  },
  {
   "cell_type": "code",
   "execution_count": 590,
   "metadata": {},
   "outputs": [
    {
     "data": {
      "image/png": "[encoded data removed]",
      "text/plain": [
       "<matplotlib.figure.Figure at 0x22d86fa5ef0>"
      ]
     },
     "metadata": {},
     "output_type": "display_data"
    }
   ],
   "source": [
    "from sklearn.cluster import KMeans\n",
    "\n",
    "kmeans = KMeans(n_clusters=5)\n",
    "kmeans.fit(Batsmen[[\"Strike_Rate\", \"Runs\"]])\n",
    "Batsmen[\"cluster\"] = kmeans.labels_\n",
    "\n",
    "fig = plt.figure(figsize=(12,6))\n",
    "\n",
    "colors = [\"blue\", \"sienna\", \"limegreen\", \"red\", \"indigo\"]\n",
    "\n",
    "for r in range(1,6):\n",
    "    clustered_Batsmen = Batsmen[Batsmen[\"cluster\"] == r]\n",
    "    plt.scatter(clustered_Batsmen[\"Strike_Rate\"], clustered_Batsmen[\"Runs\"], color=colors[r-1])\n",
    "    \n",
    "plt.title(\"IPL Batsmen\", fontsize=16)\n",
    "plt.xlabel(\"Strike Rate of the Batsmen\", fontsize=14)\n",
    "plt.ylabel(\"Runs scored by the Batsmen\", fontsize=14)\n",
    "    \n",
    "plt.show()"
   ]
  },
  {
   "cell_type": "markdown",
   "metadata": {},
   "source": [
    "### Merging the Player DF and Batsmen DF to show player names and cluster ids."
   ]
  },
  {
   "cell_type": "code",
   "execution_count": 488,
   "metadata": {},
   "outputs": [
    {
     "data": {
      "text/html": [
       "<div>\n",
       "<style scoped>\n",
       "    .dataframe tbody tr th:only-of-type {\n",
       "        vertical-align: middle;\n",
       "    }\n",
       "\n",
       "    .dataframe tbody tr th {\n",
       "        vertical-align: top;\n",
       "    }\n",
       "\n",
       "    .dataframe thead th {\n",
       "        text-align: right;\n",
       "    }\n",
       "</style>\n",
       "<table border=\"1\" class=\"dataframe\">\n",
       "  <thead>\n",
       "    <tr style=\"text-align: right;\">\n",
       "      <th></th>\n",
       "      <th>Player_Id</th>\n",
       "      <th>Runs</th>\n",
       "      <th>Balls_played</th>\n",
       "      <th>Strike_Rate</th>\n",
       "      <th>cluster</th>\n",
       "      <th>Player_Name</th>\n",
       "    </tr>\n",
       "  </thead>\n",
       "  <tbody>\n",
       "    <tr>\n",
       "      <th>0</th>\n",
       "      <td>1</td>\n",
       "      <td>1349.0</td>\n",
       "      <td>1326</td>\n",
       "      <td>101.73</td>\n",
       "      <td>2</td>\n",
       "      <td>SC Ganguly</td>\n",
       "    </tr>\n",
       "    <tr>\n",
       "      <th>1</th>\n",
       "      <td>2</td>\n",
       "      <td>2435.0</td>\n",
       "      <td>1954</td>\n",
       "      <td>124.62</td>\n",
       "      <td>0</td>\n",
       "      <td>BB McCullum</td>\n",
       "    </tr>\n",
       "    <tr>\n",
       "      <th>2</th>\n",
       "      <td>4</td>\n",
       "      <td>1322.0</td>\n",
       "      <td>1101</td>\n",
       "      <td>120.07</td>\n",
       "      <td>2</td>\n",
       "      <td>DJ Hussey</td>\n",
       "    </tr>\n",
       "    <tr>\n",
       "      <th>3</th>\n",
       "      <td>6</td>\n",
       "      <td>2170.0</td>\n",
       "      <td>1918</td>\n",
       "      <td>113.14</td>\n",
       "      <td>0</td>\n",
       "      <td>R Dravid</td>\n",
       "    </tr>\n",
       "    <tr>\n",
       "      <th>4</th>\n",
       "      <td>7</td>\n",
       "      <td>130.0</td>\n",
       "      <td>129</td>\n",
       "      <td>100.78</td>\n",
       "      <td>4</td>\n",
       "      <td>W Jaffer</td>\n",
       "    </tr>\n",
       "  </tbody>\n",
       "</table>\n",
       "</div>"
      ],
      "text/plain": [
       "   Player_Id    Runs  Balls_played  Strike_Rate  cluster  Player_Name\n",
       "0          1  1349.0          1326       101.73        2   SC Ganguly\n",
       "1          2  2435.0          1954       124.62        0  BB McCullum\n",
       "2          4  1322.0          1101       120.07        2    DJ Hussey\n",
       "3          6  2170.0          1918       113.14        0     R Dravid\n",
       "4          7   130.0           129       100.78        4     W Jaffer"
      ]
     },
     "execution_count": 488,
     "metadata": {},
     "output_type": "execute_result"
    }
   ],
   "source": [
    "Batsmen = Batsmen.rename(columns={\"Player_names\": \"Player_Id\"})\n",
    "\n",
    "Batsmen = Batsmen[Batsmen.columns].merge(Players, \"left\")\n",
    "Batsmen.head()"
   ]
  },
  {
   "cell_type": "markdown",
   "metadata": {},
   "source": [
    "# D. CREATING A DF FOR BOWLER DATA"
   ]
  },
  {
   "cell_type": "code",
   "execution_count": 388,
   "metadata": {},
   "outputs": [
    {
     "data": {
      "text/html": [
       "<div>\n",
       "<style scoped>\n",
       "    .dataframe tbody tr th:only-of-type {\n",
       "        vertical-align: middle;\n",
       "    }\n",
       "\n",
       "    .dataframe tbody tr th {\n",
       "        vertical-align: top;\n",
       "    }\n",
       "\n",
       "    .dataframe thead th {\n",
       "        text-align: right;\n",
       "    }\n",
       "</style>\n",
       "<table border=\"1\" class=\"dataframe\">\n",
       "  <thead>\n",
       "    <tr style=\"text-align: right;\">\n",
       "      <th></th>\n",
       "      <th>Bowler_names</th>\n",
       "      <th>Runs</th>\n",
       "      <th>Over_count</th>\n",
       "      <th>Econ_Rate</th>\n",
       "    </tr>\n",
       "  </thead>\n",
       "  <tbody>\n",
       "    <tr>\n",
       "      <th>0</th>\n",
       "      <td>14</td>\n",
       "      <td>3135.0</td>\n",
       "      <td>421.500000</td>\n",
       "      <td>7.44</td>\n",
       "    </tr>\n",
       "    <tr>\n",
       "      <th>1</th>\n",
       "      <td>15</td>\n",
       "      <td>2511.0</td>\n",
       "      <td>338.333333</td>\n",
       "      <td>7.42</td>\n",
       "    </tr>\n",
       "    <tr>\n",
       "      <th>2</th>\n",
       "      <td>13</td>\n",
       "      <td>41.0</td>\n",
       "      <td>4.166667</td>\n",
       "      <td>9.84</td>\n",
       "    </tr>\n",
       "    <tr>\n",
       "      <th>3</th>\n",
       "      <td>9</td>\n",
       "      <td>2316.0</td>\n",
       "      <td>299.833333</td>\n",
       "      <td>7.72</td>\n",
       "    </tr>\n",
       "    <tr>\n",
       "      <th>4</th>\n",
       "      <td>16</td>\n",
       "      <td>82.0</td>\n",
       "      <td>9.166667</td>\n",
       "      <td>8.95</td>\n",
       "    </tr>\n",
       "  </tbody>\n",
       "</table>\n",
       "</div>"
      ],
      "text/plain": [
       "   Bowler_names    Runs  Over_count  Econ_Rate\n",
       "0            14  3135.0  421.500000       7.44\n",
       "1            15  2511.0  338.333333       7.42\n",
       "2            13    41.0    4.166667       9.84\n",
       "3             9  2316.0  299.833333       7.72\n",
       "4            16    82.0    9.166667       8.95"
      ]
     },
     "execution_count": 388,
     "metadata": {},
     "output_type": "execute_result"
    }
   ],
   "source": [
    "# To analyse the performance of a bowler, we need runs conceded by him and the number of overs he bowled.\n",
    "# The economy rate of the bowler, thus, can be calculated from these two values.\n",
    "\n",
    "# Repeating the process as in the Batsmen dataframe creation.\n",
    "\n",
    "C = []\n",
    "E = []\n",
    "\n",
    "for j in runs[\"Bowler_Id\"].unique():\n",
    "    c = runs[\"Batsman_Scored\"][runs[\"Bowler_Id\"] == j].sum() + runs[\"Extra_Runs\"][runs[\"Bowler_Id\"] == j].sum()\n",
    "    \n",
    "    e = runs[\"Over_Id\"][runs[\"Bowler_Id\"] == j].count()/6\n",
    "    \n",
    "    C.append(c)\n",
    "    E.append(e)\n",
    "    \n",
    "Bowlers = pd.DataFrame({\"Bowler_names\": runs[\"Bowler_Id\"].unique()})\n",
    "\n",
    "Bowlers[\"Runs\"] = C\n",
    "Bowlers[\"Over_count\"] = E\n",
    "\n",
    "# Economy rate can be calculated by dividing the total runs conceded by the number of overs bowled.\n",
    "\n",
    "Bowlers[\"Econ_Rate\"] = (Bowlers[\"Runs\"] / Bowlers[\"Over_count\"]).round(2)\n",
    "\n",
    "Bowlers.head()"
   ]
  },
  {
   "cell_type": "code",
   "execution_count": 373,
   "metadata": {},
   "outputs": [
    {
     "data": {
      "text/plain": [
       "<matplotlib.axes._subplots.AxesSubplot at 0x22d8e5591d0>"
      ]
     },
     "execution_count": 373,
     "metadata": {},
     "output_type": "execute_result"
    },
    {
     "data": {
      "image/png": "[encoded data removed]",
      "text/plain": [
       "<matplotlib.figure.Figure at 0x22d901cdeb8>"
      ]
     },
     "metadata": {},
     "output_type": "display_data"
    }
   ],
   "source": [
    "# Checking the distribution of batsmen by plotting a histogram.\n",
    "\n",
    "Bowlers[\"Econ_Rate\"].hist(color=\"tomato\")"
   ]
  },
  {
   "cell_type": "code",
   "execution_count": 503,
   "metadata": {},
   "outputs": [],
   "source": [
    "# There is no need to cluster the players below economy rate of 4 as they are the star bowlers.\n",
    "# Similarly, bowlers with economy rates above 12.5 are not likely to be good candidates for bowling.\n",
    "# They are most likely batsmen, and thus, they too can be excluded.\n",
    "\n",
    "Bowlers = Bowlers[(Bowlers[\"Econ_Rate\"] > 4) & (Bowlers[\"Econ_Rate\"] < 10.5)]"
   ]
  },
  {
   "cell_type": "markdown",
   "metadata": {},
   "source": [
    "# E. APPLYING K MEANS ALGORITHM ON BOWLER DATA"
   ]
  },
  {
   "cell_type": "code",
   "execution_count": 504,
   "metadata": {},
   "outputs": [
    {
     "data": {
      "image/png": "[encoded data removed]",
      "text/plain": [
       "<matplotlib.figure.Figure at 0x22d8d843160>"
      ]
     },
     "metadata": {},
     "output_type": "display_data"
    }
   ],
   "source": [
    "sns.set_style(\"whitegrid\")\n",
    "\n",
    "fig = plt.figure(figsize=(12,6))\n",
    "plt.scatter(Bowlers[\"Econ_Rate\"], Bowlers[\"Runs\"], color=\"teal\")\n",
    "plt.xlabel(\"Economy Rate of the Bowler\", fontsize=14)\n",
    "plt.ylabel(\"Number of Overs bowled by the Bowler\", fontsize=14)\n",
    "plt.title(\"IPL Bowlers\", fontsize=16)\n",
    "plt.show()"
   ]
  },
  {
   "cell_type": "markdown",
   "metadata": {},
   "source": [
    "#### The distribution appears to be largely in 5 clusters again:\n",
    "#### With runs under 500\n",
    "#### With runs under 500 - 1000\n",
    "#### With runs under 1000 - 1500\n",
    "#### With runs under 1500 - 2000\n",
    "#### With runs above 2000"
   ]
  },
  {
   "cell_type": "markdown",
   "metadata": {},
   "source": [
    "### Applying the clustering algorithm"
   ]
  },
  {
   "cell_type": "code",
   "execution_count": 533,
   "metadata": {},
   "outputs": [
    {
     "data": {
      "image/png": "[encoded data removed]",
      "text/plain": [
       "<matplotlib.figure.Figure at 0x22d9025cb70>"
      ]
     },
     "metadata": {},
     "output_type": "display_data"
    }
   ],
   "source": [
    "from sklearn.cluster import KMeans\n",
    "\n",
    "kmeans = KMeans(n_clusters=5)\n",
    "kmeans.fit(Bowlers[[\"Econ_Rate\", \"Over_count\"]])\n",
    "Bowlers[\"cluster\"] = kmeans.labels_\n",
    "\n",
    "fig = plt.figure(figsize=(12,6))\n",
    "\n",
    "colors = [\"blue\", \"lightgreen\", \"black\", \"red\"]\n",
    "\n",
    "for r in range(1,5):\n",
    "    clustered_Bowlers = Bowlers[Bowlers[\"cluster\"] == r]\n",
    "    plt.scatter(clustered_Bowlers[\"Econ_Rate\"], clustered_Bowlers[\"Over_count\"], color=colors[r-1])\n",
    "    \n",
    "plt.title(\"IPL Bowlers\", fontsize=16)\n",
    "plt.xlabel(\"Economy Rate of the Bowler\", fontsize=14)\n",
    "plt.ylabel(\"Number of Overs bowled by the Bowler\", fontsize=14)\n",
    "    \n",
    "plt.show()"
   ]
  },
  {
   "cell_type": "markdown",
   "metadata": {},
   "source": [
    "### Merging the Player DF and Batsmen DF to show player names and cluster ids."
   ]
  },
  {
   "cell_type": "code",
   "execution_count": 534,
   "metadata": {},
   "outputs": [
    {
     "data": {
      "text/html": [
       "<div>\n",
       "<style scoped>\n",
       "    .dataframe tbody tr th:only-of-type {\n",
       "        vertical-align: middle;\n",
       "    }\n",
       "\n",
       "    .dataframe tbody tr th {\n",
       "        vertical-align: top;\n",
       "    }\n",
       "\n",
       "    .dataframe thead th {\n",
       "        text-align: right;\n",
       "    }\n",
       "</style>\n",
       "<table border=\"1\" class=\"dataframe\">\n",
       "  <thead>\n",
       "    <tr style=\"text-align: right;\">\n",
       "      <th></th>\n",
       "      <th>Player_Id</th>\n",
       "      <th>Runs</th>\n",
       "      <th>Over_count</th>\n",
       "      <th>Econ_Rate</th>\n",
       "      <th>Player_Name</th>\n",
       "      <th>cluster</th>\n",
       "    </tr>\n",
       "  </thead>\n",
       "  <tbody>\n",
       "    <tr>\n",
       "      <th>0</th>\n",
       "      <td>14</td>\n",
       "      <td>3135.0</td>\n",
       "      <td>421.500000</td>\n",
       "      <td>7.44</td>\n",
       "      <td>P Kumar</td>\n",
       "      <td>0</td>\n",
       "    </tr>\n",
       "    <tr>\n",
       "      <th>1</th>\n",
       "      <td>15</td>\n",
       "      <td>2511.0</td>\n",
       "      <td>338.333333</td>\n",
       "      <td>7.42</td>\n",
       "      <td>Z Khan</td>\n",
       "      <td>0</td>\n",
       "    </tr>\n",
       "    <tr>\n",
       "      <th>2</th>\n",
       "      <td>13</td>\n",
       "      <td>41.0</td>\n",
       "      <td>4.166667</td>\n",
       "      <td>9.84</td>\n",
       "      <td>AA Noffke</td>\n",
       "      <td>3</td>\n",
       "    </tr>\n",
       "    <tr>\n",
       "      <th>3</th>\n",
       "      <td>9</td>\n",
       "      <td>2316.0</td>\n",
       "      <td>299.833333</td>\n",
       "      <td>7.72</td>\n",
       "      <td>JH Kallis</td>\n",
       "      <td>4</td>\n",
       "    </tr>\n",
       "    <tr>\n",
       "      <th>4</th>\n",
       "      <td>16</td>\n",
       "      <td>82.0</td>\n",
       "      <td>9.166667</td>\n",
       "      <td>8.95</td>\n",
       "      <td>SB Joshi</td>\n",
       "      <td>3</td>\n",
       "    </tr>\n",
       "  </tbody>\n",
       "</table>\n",
       "</div>"
      ],
      "text/plain": [
       "   Player_Id    Runs  Over_count  Econ_Rate Player_Name  cluster\n",
       "0         14  3135.0  421.500000       7.44     P Kumar        0\n",
       "1         15  2511.0  338.333333       7.42      Z Khan        0\n",
       "2         13    41.0    4.166667       9.84   AA Noffke        3\n",
       "3          9  2316.0  299.833333       7.72   JH Kallis        4\n",
       "4         16    82.0    9.166667       8.95    SB Joshi        3"
      ]
     },
     "execution_count": 534,
     "metadata": {},
     "output_type": "execute_result"
    }
   ],
   "source": [
    "Bowlers = Bowlers.rename(columns={\"Bowler_names\": \"Player_Id\"})\n",
    "Bowlers.head()"
   ]
  },
  {
   "cell_type": "code",
   "execution_count": 535,
   "metadata": {},
   "outputs": [
    {
     "data": {
      "text/html": [
       "<div>\n",
       "<style scoped>\n",
       "    .dataframe tbody tr th:only-of-type {\n",
       "        vertical-align: middle;\n",
       "    }\n",
       "\n",
       "    .dataframe tbody tr th {\n",
       "        vertical-align: top;\n",
       "    }\n",
       "\n",
       "    .dataframe thead th {\n",
       "        text-align: right;\n",
       "    }\n",
       "</style>\n",
       "<table border=\"1\" class=\"dataframe\">\n",
       "  <thead>\n",
       "    <tr style=\"text-align: right;\">\n",
       "      <th></th>\n",
       "      <th>Player_Id</th>\n",
       "      <th>Runs</th>\n",
       "      <th>Over_count</th>\n",
       "      <th>Econ_Rate</th>\n",
       "      <th>Player_Name</th>\n",
       "      <th>cluster</th>\n",
       "    </tr>\n",
       "  </thead>\n",
       "  <tbody>\n",
       "    <tr>\n",
       "      <th>0</th>\n",
       "      <td>14</td>\n",
       "      <td>3135.0</td>\n",
       "      <td>421.500000</td>\n",
       "      <td>7.44</td>\n",
       "      <td>P Kumar</td>\n",
       "      <td>0</td>\n",
       "    </tr>\n",
       "    <tr>\n",
       "      <th>1</th>\n",
       "      <td>15</td>\n",
       "      <td>2511.0</td>\n",
       "      <td>338.333333</td>\n",
       "      <td>7.42</td>\n",
       "      <td>Z Khan</td>\n",
       "      <td>0</td>\n",
       "    </tr>\n",
       "    <tr>\n",
       "      <th>2</th>\n",
       "      <td>13</td>\n",
       "      <td>41.0</td>\n",
       "      <td>4.166667</td>\n",
       "      <td>9.84</td>\n",
       "      <td>AA Noffke</td>\n",
       "      <td>3</td>\n",
       "    </tr>\n",
       "    <tr>\n",
       "      <th>3</th>\n",
       "      <td>9</td>\n",
       "      <td>2316.0</td>\n",
       "      <td>299.833333</td>\n",
       "      <td>7.72</td>\n",
       "      <td>JH Kallis</td>\n",
       "      <td>4</td>\n",
       "    </tr>\n",
       "    <tr>\n",
       "      <th>4</th>\n",
       "      <td>16</td>\n",
       "      <td>82.0</td>\n",
       "      <td>9.166667</td>\n",
       "      <td>8.95</td>\n",
       "      <td>SB Joshi</td>\n",
       "      <td>3</td>\n",
       "    </tr>\n",
       "  </tbody>\n",
       "</table>\n",
       "</div>"
      ],
      "text/plain": [
       "   Player_Id    Runs  Over_count  Econ_Rate Player_Name  cluster\n",
       "0         14  3135.0  421.500000       7.44     P Kumar        0\n",
       "1         15  2511.0  338.333333       7.42      Z Khan        0\n",
       "2         13    41.0    4.166667       9.84   AA Noffke        3\n",
       "3          9  2316.0  299.833333       7.72   JH Kallis        4\n",
       "4         16    82.0    9.166667       8.95    SB Joshi        3"
      ]
     },
     "execution_count": 535,
     "metadata": {},
     "output_type": "execute_result"
    }
   ],
   "source": [
    "Bowlers = Bowlers[Bowlers.columns].merge(Players, \"left\")\n",
    "Bowlers.head()"
   ]
  },
  {
   "cell_type": "markdown",
   "metadata": {},
   "source": [
    "## Thus, batsmen and bowlers have been clustered as per their performance\n",
    "## of the many IPL seasons!"
   ]
  },
  {
   "cell_type": "code",
   "execution_count": null,
   "metadata": {},
   "outputs": [],
   "source": []
  }
 ],
 "metadata": {
  "kernelspec": {
   "display_name": "Python 3",
   "language": "python",
   "name": "python3"
  },
  "language_info": {
   "codemirror_mode": {
    "name": "ipython",
    "version": 3
   },
   "file_extension": ".py",
   "mimetype": "text/x-python",
   "name": "python",
   "nbconvert_exporter": "python",
   "pygments_lexer": "ipython3",
   "version": "3.6.4"
  }
 },
 "nbformat": 4,
 "nbformat_minor": 2
}
